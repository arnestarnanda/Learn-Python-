{
 "cells": [
  {
   "cell_type": "markdown",
   "id": "fc51459f",
   "metadata": {},
   "source": [
    "# Error Handling On Python\n",
    "As you know, there are 2 types of errors:\n",
    "- Syntax errors\n",
    "- Logical errors/Exceptions\n",
    "\n",
    "Handling error using the (try) and (except) statement\n",
    "\n",
    "Try and except statements are used to catch and handle exceptions in Python."
   ]
  },
  {
   "cell_type": "markdown",
   "id": "7dca9539",
   "metadata": {},
   "source": [
    "## Try and Except Statement\n",
    "- The try block lets you test a block of code for errors.\n",
    "- The except block lets you handle the error."
   ]
  },
  {
   "cell_type": "markdown",
   "id": "17b2d0a7",
   "metadata": {},
   "source": [
    "#### Example of handle ZeroDivisionError "
   ]
  },
  {
   "cell_type": "code",
   "execution_count": 1,
   "id": "303628f3",
   "metadata": {},
   "outputs": [
    {
     "ename": "ZeroDivisionError",
     "evalue": "division by zero",
     "output_type": "error",
     "traceback": [
      "\u001b[1;31m---------------------------------------------------------------------------\u001b[0m",
      "\u001b[1;31mZeroDivisionError\u001b[0m                         Traceback (most recent call last)",
      "\u001b[1;32m<ipython-input-1-a3cb4f9a3dc1>\u001b[0m in \u001b[0;36m<module>\u001b[1;34m\u001b[0m\n\u001b[0;32m      1\u001b[0m \u001b[1;31m# Generates ZeroDivisionError .\u001b[0m\u001b[1;33m\u001b[0m\u001b[1;33m\u001b[0m\u001b[1;33m\u001b[0m\u001b[0m\n\u001b[0;32m      2\u001b[0m \u001b[0ma\u001b[0m \u001b[1;33m=\u001b[0m \u001b[1;36m0\u001b[0m\u001b[1;33m\u001b[0m\u001b[1;33m\u001b[0m\u001b[0m\n\u001b[1;32m----> 3\u001b[1;33m \u001b[0mdivison\u001b[0m \u001b[1;33m=\u001b[0m \u001b[1;36m1\u001b[0m\u001b[1;33m/\u001b[0m\u001b[0ma\u001b[0m\u001b[1;33m\u001b[0m\u001b[1;33m\u001b[0m\u001b[0m\n\u001b[0m\u001b[0;32m      4\u001b[0m \u001b[0mprint\u001b[0m\u001b[1;33m(\u001b[0m\u001b[0mdivison\u001b[0m\u001b[1;33m)\u001b[0m\u001b[1;33m\u001b[0m\u001b[1;33m\u001b[0m\u001b[0m\n",
      "\u001b[1;31mZeroDivisionError\u001b[0m: division by zero"
     ]
    }
   ],
   "source": [
    "# Generates ZeroDivisionError .\n",
    "a = 0\n",
    "divison = 1/a\n",
    "print(divison)"
   ]
  },
  {
   "cell_type": "code",
   "execution_count": 2,
   "id": "75cc51bf",
   "metadata": {},
   "outputs": [
    {
     "name": "stdout",
     "output_type": "stream",
     "text": [
      "It Can't division by 0\n"
     ]
    }
   ],
   "source": [
    "# Using Try and Except to handle an error ZeroDivisionError\n",
    "a = 0\n",
    "\n",
    "try:\n",
    "    division = 1/a\n",
    "    print(division)\n",
    "except ZeroDivisionError: # if ZeroDivisionError occurs, then the command below is executed \n",
    "    print('It Can\\'t division by 0') "
   ]
  },
  {
   "cell_type": "markdown",
   "id": "a8a83948",
   "metadata": {},
   "source": [
    "#### Example of handle IndexError"
   ]
  },
  {
   "cell_type": "code",
   "execution_count": 3,
   "id": "36e08ff7",
   "metadata": {},
   "outputs": [
    {
     "ename": "IndexError",
     "evalue": "list index out of range",
     "output_type": "error",
     "traceback": [
      "\u001b[1;31m---------------------------------------------------------------------------\u001b[0m",
      "\u001b[1;31mIndexError\u001b[0m                                Traceback (most recent call last)",
      "\u001b[1;32m<ipython-input-3-a7a7f8ed119d>\u001b[0m in \u001b[0;36m<module>\u001b[1;34m\u001b[0m\n\u001b[0;32m      1\u001b[0m \u001b[0mb\u001b[0m \u001b[1;33m=\u001b[0m \u001b[1;33m[\u001b[0m\u001b[1;36m1\u001b[0m\u001b[1;33m,\u001b[0m\u001b[1;36m2\u001b[0m\u001b[1;33m,\u001b[0m\u001b[1;36m3\u001b[0m\u001b[1;33m,\u001b[0m\u001b[1;36m4\u001b[0m\u001b[1;33m,\u001b[0m\u001b[1;36m5\u001b[0m\u001b[1;33m]\u001b[0m\u001b[1;33m\u001b[0m\u001b[1;33m\u001b[0m\u001b[0m\n\u001b[1;32m----> 2\u001b[1;33m \u001b[0mprint\u001b[0m\u001b[1;33m(\u001b[0m\u001b[0mb\u001b[0m\u001b[1;33m[\u001b[0m\u001b[1;36m6\u001b[0m\u001b[1;33m]\u001b[0m\u001b[1;33m)\u001b[0m \u001b[1;31m# There is no index 6\u001b[0m\u001b[1;33m\u001b[0m\u001b[1;33m\u001b[0m\u001b[0m\n\u001b[0m",
      "\u001b[1;31mIndexError\u001b[0m: list index out of range"
     ]
    }
   ],
   "source": [
    "b = [1,2,3,4,5]\n",
    "print(b[6]) # There is no index 6"
   ]
  },
  {
   "cell_type": "code",
   "execution_count": 4,
   "id": "a5cea1be",
   "metadata": {},
   "outputs": [
    {
     "name": "stdout",
     "output_type": "stream",
     "text": [
      "List is only have 5 index\n"
     ]
    }
   ],
   "source": [
    "b = [1,2,3,4,5]\n",
    "\n",
    "try:\n",
    "    print(b[6])\n",
    "except IndexError:\n",
    "    print('List is only have 5 index')"
   ]
  },
  {
   "cell_type": "markdown",
   "id": "6daccaf2",
   "metadata": {},
   "source": [
    "#### Example of handle FileNotFoundError"
   ]
  },
  {
   "cell_type": "code",
   "execution_count": 5,
   "id": "9ca96014",
   "metadata": {},
   "outputs": [
    {
     "ename": "FileNotFoundError",
     "evalue": "[Errno 2] No such file or directory: 'example_does_not_exist.py'",
     "output_type": "error",
     "traceback": [
      "\u001b[1;31m---------------------------------------------------------------------------\u001b[0m",
      "\u001b[1;31mFileNotFoundError\u001b[0m                         Traceback (most recent call last)",
      "\u001b[1;32m<ipython-input-5-a3de0878cc89>\u001b[0m in \u001b[0;36m<module>\u001b[1;34m\u001b[0m\n\u001b[1;32m----> 1\u001b[1;33m \u001b[1;32mwith\u001b[0m \u001b[0mopen\u001b[0m\u001b[1;33m(\u001b[0m\u001b[1;34m'example_does_not_exist.py'\u001b[0m\u001b[1;33m)\u001b[0m \u001b[1;32mas\u001b[0m \u001b[0mfile\u001b[0m\u001b[1;33m:\u001b[0m\u001b[1;33m\u001b[0m\u001b[1;33m\u001b[0m\u001b[0m\n\u001b[0m\u001b[0;32m      2\u001b[0m     \u001b[0mprint\u001b[0m\u001b[1;33m(\u001b[0m\u001b[0mfile\u001b[0m\u001b[1;33m.\u001b[0m\u001b[0mread\u001b[0m\u001b[1;33m(\u001b[0m\u001b[1;33m)\u001b[0m\u001b[1;33m)\u001b[0m\u001b[1;33m\u001b[0m\u001b[1;33m\u001b[0m\u001b[0m\n",
      "\u001b[1;31mFileNotFoundError\u001b[0m: [Errno 2] No such file or directory: 'example_does_not_exist.py'"
     ]
    }
   ],
   "source": [
    "with open('example_does_not_exist.py') as file:\n",
    "    print(file.read())"
   ]
  },
  {
   "cell_type": "code",
   "execution_count": 6,
   "id": "0f58ef60",
   "metadata": {},
   "outputs": [
    {
     "name": "stdout",
     "output_type": "stream",
     "text": [
      "File is not found\n"
     ]
    }
   ],
   "source": [
    "try:\n",
    "    with open('example_does_not_exist.py') as file:\n",
    "        print(file.read())\n",
    "except FileNotFoundError:\n",
    "    print('File is not found')"
   ]
  },
  {
   "cell_type": "markdown",
   "id": "c4946ed4",
   "metadata": {},
   "source": [
    "#### Example of handle KeyError"
   ]
  },
  {
   "cell_type": "code",
   "execution_count": 7,
   "id": "28088155",
   "metadata": {},
   "outputs": [
    {
     "ename": "KeyError",
     "evalue": "'Mean'",
     "output_type": "error",
     "traceback": [
      "\u001b[1;31m---------------------------------------------------------------------------\u001b[0m",
      "\u001b[1;31mKeyError\u001b[0m                                  Traceback (most recent call last)",
      "\u001b[1;32m<ipython-input-7-d78a12db0ec4>\u001b[0m in \u001b[0;36m<module>\u001b[1;34m\u001b[0m\n\u001b[0;32m      1\u001b[0m \u001b[0mc\u001b[0m \u001b[1;33m=\u001b[0m \u001b[1;33m{\u001b[0m\u001b[1;34m'mean'\u001b[0m\u001b[1;33m:\u001b[0m\u001b[1;34m'10.0'\u001b[0m\u001b[1;33m}\u001b[0m\u001b[1;33m\u001b[0m\u001b[1;33m\u001b[0m\u001b[0m\n\u001b[1;32m----> 2\u001b[1;33m \u001b[0mprint\u001b[0m\u001b[1;33m(\u001b[0m\u001b[1;34m'mean is {}'\u001b[0m\u001b[1;33m.\u001b[0m\u001b[0mformat\u001b[0m\u001b[1;33m(\u001b[0m\u001b[0mc\u001b[0m\u001b[1;33m[\u001b[0m\u001b[1;34m'Mean'\u001b[0m\u001b[1;33m]\u001b[0m\u001b[1;33m)\u001b[0m\u001b[1;33m)\u001b[0m\u001b[1;33m\u001b[0m\u001b[1;33m\u001b[0m\u001b[0m\n\u001b[0m",
      "\u001b[1;31mKeyError\u001b[0m: 'Mean'"
     ]
    }
   ],
   "source": [
    "c = {'mean':'10.0'}\n",
    "print('mean is {}'.format(c['Mean']))"
   ]
  },
  {
   "cell_type": "code",
   "execution_count": 8,
   "id": "eecaf9e0",
   "metadata": {},
   "outputs": [
    {
     "name": "stdout",
     "output_type": "stream",
     "text": [
      "Key is not found in the Dictionary c\n"
     ]
    }
   ],
   "source": [
    "c = {'mean':'10.0'}\n",
    "\n",
    "try :\n",
    "    print('The mean is {}'.format(c['Mean'])) # There is no key 'Mean' in c\n",
    "except KeyError:\n",
    "    print('Key is not found in the Dictionary c')"
   ]
  },
  {
   "cell_type": "markdown",
   "id": "7384908b",
   "metadata": {},
   "source": [
    "## Catching Specific Exception\n",
    "A try statement can have more than one except clause, to specify handlers for different exceptions."
   ]
  },
  {
   "cell_type": "markdown",
   "id": "b0c78661",
   "metadata": {},
   "source": [
    "#### Using 2 Excepts"
   ]
  },
  {
   "cell_type": "code",
   "execution_count": 9,
   "id": "c191b9d4",
   "metadata": {},
   "outputs": [
    {
     "name": "stdout",
     "output_type": "stream",
     "text": [
      ".append method is only work with data type list,dict,set and tuple\n"
     ]
    }
   ],
   "source": [
    "x = '10'\n",
    "try:\n",
    "    x.append(6) #AtributError\n",
    "    #x[3] #IndexError\n",
    "   \n",
    "except AttributeError:\n",
    "    print('.append method is only work with data type list,dict,set and tuple')\n",
    "except IndexError:\n",
    "    print('Index has cross the value limit on a variable')"
   ]
  },
  {
   "cell_type": "markdown",
   "id": "83b0134a",
   "metadata": {},
   "source": [
    "#### Using Tuple"
   ]
  },
  {
   "cell_type": "code",
   "execution_count": 10,
   "id": "f8dccaf5",
   "metadata": {},
   "outputs": [
    {
     "name": "stdout",
     "output_type": "stream",
     "text": [
      "There is an error in attribute or index\n"
     ]
    }
   ],
   "source": [
    "x = '10'\n",
    "try:\n",
    "    #x.append(6) #AtributError\n",
    "    x[3] #IndexError\n",
    "except (AttributeError, IndexError):\n",
    "    print('There is an error in attribute or index')"
   ]
  },
  {
   "cell_type": "markdown",
   "id": "4e1cb9e1",
   "metadata": {},
   "source": [
    "## Using alias (as)"
   ]
  },
  {
   "cell_type": "code",
   "execution_count": 11,
   "id": "20fb3eec",
   "metadata": {},
   "outputs": [
    {
     "name": "stdout",
     "output_type": "stream",
     "text": [
      "There is an error on : 'str' object has no attribute 'append'\n"
     ]
    }
   ],
   "source": [
    "# Doing alias (as) so that it can display the error writing in python\n",
    "x = '10'\n",
    "try:\n",
    "    x.append(6)\n",
    "    #x[3]\n",
    "except AttributeError as AE:\n",
    "    print('There is an error on :', AE)\n",
    "except IndexError as IE:\n",
    "    print('There is an error on : ',IE)"
   ]
  },
  {
   "cell_type": "code",
   "execution_count": 12,
   "id": "9796109f",
   "metadata": {},
   "outputs": [
    {
     "name": "stdout",
     "output_type": "stream",
     "text": [
      "There is an Error on Attribute or Index : 'str' object has no attribute 'append'\n"
     ]
    }
   ],
   "source": [
    "# Combine errors in one except and perform aliasing\n",
    "x = '10'\n",
    "try:\n",
    "    x.append(6)\n",
    "    #x[3]\n",
    "except (AttributeError, IndexError) as AI:\n",
    "    print('There is an Error on Attribute or Index :', AI)"
   ]
  },
  {
   "cell_type": "markdown",
   "id": "a1dfed57",
   "metadata": {},
   "source": [
    "## Else Clause\n",
    "In some situations, you may want to run a specific block of code if the code block in the test runs without errors. In this case, you can use the optional else keyword with a try statement."
   ]
  },
  {
   "cell_type": "code",
   "execution_count": 13,
   "id": "a141cdb4",
   "metadata": {},
   "outputs": [
    {
     "name": "stdout",
     "output_type": "stream",
     "text": [
      "There is an error on :  list index out of range\n"
     ]
    }
   ],
   "source": [
    "# except IndexError will be executed\n",
    "old = ['10','20','30','40','50']\n",
    "try:\n",
    "    new = old[5]\n",
    "    new\n",
    "except IndexError as IE:\n",
    "    print('There is an error on : ',IE)\n",
    "else:\n",
    "    print(x)"
   ]
  },
  {
   "cell_type": "code",
   "execution_count": 14,
   "id": "16f47368",
   "metadata": {},
   "outputs": [
    {
     "name": "stdout",
     "output_type": "stream",
     "text": [
      "50\n"
     ]
    }
   ],
   "source": [
    "# else will be executed\n",
    "old = ['10','20','30','40','50']\n",
    "try:\n",
    "    new = old[4]\n",
    "    new\n",
    "except IndexError as IE:\n",
    "    print('There is an error on : ',IE)\n",
    "else:\n",
    "    print(new)\n",
    "    "
   ]
  },
  {
   "cell_type": "markdown",
   "id": "db6f9645",
   "metadata": {},
   "source": [
    "## Finally Clause\n",
    "The try statement in Python can have an optional Finally clause. This clause is executed no matter what, and is generally used to release external resources."
   ]
  },
  {
   "cell_type": "code",
   "execution_count": 15,
   "id": "8d77ceeb",
   "metadata": {},
   "outputs": [
    {
     "name": "stdout",
     "output_type": "stream",
     "text": [
      "50\n",
      "Good Job\n"
     ]
    }
   ],
   "source": [
    "# finally clause always will be executed\n",
    "old = ['10','20','30','40','50']\n",
    "try:\n",
    "    new = old[4]\n",
    "    new\n",
    "except IndexError as IE:\n",
    "    print('There is an error on : ',IE)\n",
    "else:\n",
    "    print(new)\n",
    "finally:\n",
    "    print(\"Good Job\")"
   ]
  },
  {
   "cell_type": "code",
   "execution_count": null,
   "id": "2610871f",
   "metadata": {},
   "outputs": [],
   "source": []
  }
 ],
 "metadata": {
  "kernelspec": {
   "display_name": "Python 3",
   "language": "python",
   "name": "python3"
  },
  "language_info": {
   "codemirror_mode": {
    "name": "ipython",
    "version": 3
   },
   "file_extension": ".py",
   "mimetype": "text/x-python",
   "name": "python",
   "nbconvert_exporter": "python",
   "pygments_lexer": "ipython3",
   "version": "3.8.8"
  }
 },
 "nbformat": 4,
 "nbformat_minor": 5
}
