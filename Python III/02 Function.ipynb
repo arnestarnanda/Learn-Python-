{
 "cells": [
  {
   "attachments": {
    "image.png": {
     "image/png": "[encoded data removed]"
    }
   },
   "cell_type": "markdown",
   "id": "c2d1f925",
   "metadata": {},
   "source": [
    "# Function\n",
    "Python Functions is a block of statements that return the specific task.\n",
    "\n",
    "The idea is to put some commonly or repeatedly done tasks together and make a function so that instead of writing the same code again and again for different inputs, we can do the function calls to reuse code contained in it over and over again.\n",
    "![image.png](attachment:image.png)\n"
   ]
  },
  {
   "cell_type": "markdown",
   "id": "bc40bc8e",
   "metadata": {},
   "source": [
    "## Define a Function\n",
    "a syntax when you want to create a function\n",
    "\n",
    "def FunctionName():\n",
    "    \n",
    "    statement"
   ]
  },
  {
   "cell_type": "code",
   "execution_count": 1,
   "id": "9aa660e8",
   "metadata": {},
   "outputs": [],
   "source": [
    "def myFunction():\n",
    "    print(\"Hello World\")"
   ]
  },
  {
   "cell_type": "markdown",
   "id": "5d6d840e",
   "metadata": {},
   "source": [
    "## Calling a Function\n",
    "When you want to call your function\n",
    "\n",
    "FunctionName()"
   ]
  },
  {
   "cell_type": "code",
   "execution_count": 2,
   "id": "4c4f35ee",
   "metadata": {},
   "outputs": [
    {
     "name": "stdout",
     "output_type": "stream",
     "text": [
      "Hello World\n"
     ]
    }
   ],
   "source": [
    "myFunction()"
   ]
  },
  {
   "cell_type": "markdown",
   "id": "879491af",
   "metadata": {},
   "source": [
    "## Return Statement\n",
    "You can use the return keyword to exit a function so it goes back to where it was called. That is, send something out of the function.\n",
    "\n",
    "The return statement can contain an expression to execute once the function is called.\n",
    "\n",
    "return [expression_list]"
   ]
  },
  {
   "cell_type": "code",
   "execution_count": 3,
   "id": "86a4276e",
   "metadata": {},
   "outputs": [],
   "source": [
    "def square(x):\n",
    "    return x**2"
   ]
  },
  {
   "cell_type": "code",
   "execution_count": 4,
   "id": "c96d688e",
   "metadata": {},
   "outputs": [
    {
     "data": {
      "text/plain": [
       "16"
      ]
     },
     "execution_count": 4,
     "metadata": {},
     "output_type": "execute_result"
    }
   ],
   "source": [
    "square(4)"
   ]
  },
  {
   "cell_type": "markdown",
   "id": "3790680b",
   "metadata": {},
   "source": [
    "## Function with Argument\n",
    " While defining a function in Python, you can pass argument(s) into the function by putting them inside the parenthesis."
   ]
  },
  {
   "cell_type": "code",
   "execution_count": 5,
   "id": "a321ce4e",
   "metadata": {},
   "outputs": [],
   "source": [
    "def name(x):\n",
    "    halo = \"Hai {}\".format(x)\n",
    "    return halo"
   ]
  },
  {
   "cell_type": "code",
   "execution_count": 6,
   "id": "26460e7f",
   "metadata": {},
   "outputs": [
    {
     "data": {
      "text/plain": [
       "'Hai Joko'"
      ]
     },
     "execution_count": 6,
     "metadata": {},
     "output_type": "execute_result"
    }
   ],
   "source": [
    "name('Joko')"
   ]
  },
  {
   "cell_type": "markdown",
   "id": "b4b86beb",
   "metadata": {},
   "source": [
    "## Argument and Parameter"
   ]
  },
  {
   "cell_type": "markdown",
   "id": "09ee7e56",
   "metadata": {},
   "source": [
    "#### Difference Between Argument and Paramater is :\n",
    "- A parameter is the variable listed inside the parentheses in the function definition\n",
    "- An argument is the value that is sent to the function when it is called."
   ]
  },
  {
   "cell_type": "code",
   "execution_count": 7,
   "id": "38a03178",
   "metadata": {},
   "outputs": [],
   "source": [
    "# what we fill when creating the function are paramaters\n",
    "def CheckEvenOdd(x): # x is a paramater \n",
    "    if (x % 2 == 0):\n",
    "        print(\"even\")\n",
    "    else:\n",
    "        print(\"odd\")"
   ]
  },
  {
   "cell_type": "code",
   "execution_count": 8,
   "id": "5d68d57a",
   "metadata": {},
   "outputs": [
    {
     "name": "stdout",
     "output_type": "stream",
     "text": [
      "odd\n"
     ]
    }
   ],
   "source": [
    "# what we fill when calling the function are arguments\n",
    "CheckEvenOdd(3) # 3 is an argument "
   ]
  },
  {
   "cell_type": "markdown",
   "id": "85a01f2e",
   "metadata": {},
   "source": [
    "## Number of Arguments\n",
    "a function must be called with the correct number of arguments. Meaning that if your function expects 2 parameters, you have to call the function with 2 arguments, not more, and not less."
   ]
  },
  {
   "cell_type": "code",
   "execution_count": 9,
   "id": "d3b168b3",
   "metadata": {},
   "outputs": [
    {
     "name": "stdout",
     "output_type": "stream",
     "text": [
      "The sum of 2 + 5 is = 7\n"
     ]
    }
   ],
   "source": [
    "# This function expects 2 parameters, and gets 2 arguments\n",
    "def plus(x,y):\n",
    "    result = x + y\n",
    "    print(\"The sum of {} + {} is = {}\".format(x,y,result))\n",
    "\n",
    "plus(2,5)"
   ]
  },
  {
   "cell_type": "code",
   "execution_count": 10,
   "id": "bd9d98fb",
   "metadata": {},
   "outputs": [
    {
     "ename": "TypeError",
     "evalue": "plus() missing 1 required positional argument: 'y'",
     "output_type": "error",
     "traceback": [
      "\u001b[1;31m---------------------------------------------------------------------------\u001b[0m",
      "\u001b[1;31mTypeError\u001b[0m                                 Traceback (most recent call last)",
      "\u001b[1;32m<ipython-input-10-3d8cfa2d9359>\u001b[0m in \u001b[0;36m<module>\u001b[1;34m\u001b[0m\n\u001b[0;32m      4\u001b[0m     \u001b[0mprint\u001b[0m\u001b[1;33m(\u001b[0m\u001b[1;34m\"The sum of {} + {} is = {}\"\u001b[0m\u001b[1;33m.\u001b[0m\u001b[0mformat\u001b[0m\u001b[1;33m(\u001b[0m\u001b[0mx\u001b[0m\u001b[1;33m,\u001b[0m\u001b[0my\u001b[0m\u001b[1;33m,\u001b[0m\u001b[0mresult\u001b[0m\u001b[1;33m)\u001b[0m\u001b[1;33m)\u001b[0m\u001b[1;33m\u001b[0m\u001b[1;33m\u001b[0m\u001b[0m\n\u001b[0;32m      5\u001b[0m \u001b[1;33m\u001b[0m\u001b[0m\n\u001b[1;32m----> 6\u001b[1;33m \u001b[0mplus\u001b[0m\u001b[1;33m(\u001b[0m\u001b[1;36m2\u001b[0m\u001b[1;33m)\u001b[0m\u001b[1;33m\u001b[0m\u001b[1;33m\u001b[0m\u001b[0m\n\u001b[0m",
      "\u001b[1;31mTypeError\u001b[0m: plus() missing 1 required positional argument: 'y'"
     ]
    }
   ],
   "source": [
    "# This function expects 2 parameters, and gets 1 argument, so there will be an error\n",
    "def plus(x,y):\n",
    "    result = x + y\n",
    "    print(\"The sum of {} + {} is = {}\".format(x,y,result))\n",
    "\n",
    "plus(2)"
   ]
  },
  {
   "cell_type": "code",
   "execution_count": 11,
   "id": "a964bb1e",
   "metadata": {},
   "outputs": [
    {
     "ename": "TypeError",
     "evalue": "plus() takes 2 positional arguments but 3 were given",
     "output_type": "error",
     "traceback": [
      "\u001b[1;31m---------------------------------------------------------------------------\u001b[0m",
      "\u001b[1;31mTypeError\u001b[0m                                 Traceback (most recent call last)",
      "\u001b[1;32m<ipython-input-11-9463919ca1c8>\u001b[0m in \u001b[0;36m<module>\u001b[1;34m\u001b[0m\n\u001b[0;32m      4\u001b[0m     \u001b[0mprint\u001b[0m\u001b[1;33m(\u001b[0m\u001b[1;34m\"The sum of {} + {} is = {}\"\u001b[0m\u001b[1;33m.\u001b[0m\u001b[0mformat\u001b[0m\u001b[1;33m(\u001b[0m\u001b[0mx\u001b[0m\u001b[1;33m,\u001b[0m\u001b[0my\u001b[0m\u001b[1;33m,\u001b[0m\u001b[0mresult\u001b[0m\u001b[1;33m)\u001b[0m\u001b[1;33m)\u001b[0m\u001b[1;33m\u001b[0m\u001b[1;33m\u001b[0m\u001b[0m\n\u001b[0;32m      5\u001b[0m \u001b[1;33m\u001b[0m\u001b[0m\n\u001b[1;32m----> 6\u001b[1;33m \u001b[0mplus\u001b[0m\u001b[1;33m(\u001b[0m\u001b[1;36m2\u001b[0m\u001b[1;33m,\u001b[0m\u001b[1;36m5\u001b[0m\u001b[1;33m,\u001b[0m\u001b[1;36m7\u001b[0m\u001b[1;33m)\u001b[0m\u001b[1;33m\u001b[0m\u001b[1;33m\u001b[0m\u001b[0m\n\u001b[0m",
      "\u001b[1;31mTypeError\u001b[0m: plus() takes 2 positional arguments but 3 were given"
     ]
    }
   ],
   "source": [
    "# This function expects 2 parameters, and gets 3 argument, so there will be an error\n",
    "def plus(x,y):\n",
    "    result = x + y\n",
    "    print(\"The sum of {} + {} is = {}\".format(x,y,result))\n",
    "\n",
    "plus(2,5,7)"
   ]
  },
  {
   "cell_type": "markdown",
   "id": "edccb745",
   "metadata": {},
   "source": [
    "## Pass by reference vs value"
   ]
  },
  {
   "cell_type": "markdown",
   "id": "54d72c5f",
   "metadata": {},
   "source": [
    "#### Pass by Reference\n",
    "Pass by reference means that you have to pass the function(reference) to a variable which refers that the variable already exists in memory. "
   ]
  },
  {
   "cell_type": "code",
   "execution_count": 12,
   "id": "3df158e1",
   "metadata": {},
   "outputs": [],
   "source": [
    "def change(x):\n",
    "    x.append([3,4])\n",
    "    print(\"The value inside the function is : {}\".format(x))"
   ]
  },
  {
   "cell_type": "code",
   "execution_count": 13,
   "id": "8a7b81ae",
   "metadata": {},
   "outputs": [
    {
     "name": "stdout",
     "output_type": "stream",
     "text": [
      "The value inside the function is : [10, [3, 4]]\n",
      "The value outside the function is : [10, [3, 4]]\n"
     ]
    }
   ],
   "source": [
    "a = [10]\n",
    "change(a)\n",
    "print(\"The value outside the function is : {}\".format(a))"
   ]
  },
  {
   "cell_type": "markdown",
   "id": "4be97407",
   "metadata": {},
   "source": [
    "#### By Pass\n",
    "We pass a copy of actual variables in function as a parameter. Hence any modification on parameters inside the function will not reflect in the actual variable."
   ]
  },
  {
   "cell_type": "code",
   "execution_count": 14,
   "id": "78ca6314",
   "metadata": {},
   "outputs": [],
   "source": [
    "def change1(x):\n",
    "    x = [3,4]\n",
    "    x.append(5)\n",
    "    print('The value inside the function is : {}'.format(x))"
   ]
  },
  {
   "cell_type": "code",
   "execution_count": 15,
   "id": "6ee42e58",
   "metadata": {},
   "outputs": [
    {
     "name": "stdout",
     "output_type": "stream",
     "text": [
      "The value inside the function is : [3, 4, 5]\n",
      "The value outside the function is : [10, 20, 30]\n"
     ]
    }
   ],
   "source": [
    "mylist = [10,20,30];\n",
    "change1( mylist );\n",
    "print(\"The value outside the function is : {}\".format(mylist))"
   ]
  },
  {
   "cell_type": "markdown",
   "id": "4424cecc",
   "metadata": {},
   "source": [
    "## Lambda\n",
    "Python Lambda Functions are anonymous function means that the function is without a name. As we already know that the def keyword is used to define a normal function in Python. Similarly, the lambda keyword is used to define an anonymous function in Python. \n",
    "\n",
    "Syntax :\n",
    "\n",
    "lambda arguments : expression"
   ]
  },
  {
   "cell_type": "code",
   "execution_count": 16,
   "id": "5a3dd325",
   "metadata": {},
   "outputs": [
    {
     "name": "stdout",
     "output_type": "stream",
     "text": [
      "Using function defined with `def` keyword, Result : 10\n"
     ]
    }
   ],
   "source": [
    "# using def function\n",
    "def times(x,y): \n",
    "    return x*y\n",
    "\n",
    "print(\"Using function defined with `def` keyword, Result :\",times(2,5))\n"
   ]
  },
  {
   "cell_type": "code",
   "execution_count": 17,
   "id": "6b524a68",
   "metadata": {},
   "outputs": [
    {
     "name": "stdout",
     "output_type": "stream",
     "text": [
      "Using lambda function, Result : 10\n"
     ]
    }
   ],
   "source": [
    "# using lambda\n",
    "times_v2 = lambda x,y : x*y\n",
    "print(\"Using lambda function, Result :\",times_v2(2,5))"
   ]
  }
 ],
 "metadata": {
  "kernelspec": {
   "display_name": "Python 3",
   "language": "python",
   "name": "python3"
  },
  "language_info": {
   "codemirror_mode": {
    "name": "ipython",
    "version": 3
   },
   "file_extension": ".py",
   "mimetype": "text/x-python",
   "name": "python",
   "nbconvert_exporter": "python",
   "pygments_lexer": "ipython3",
   "version": "3.8.8"
  }
 },
 "nbformat": 4,
 "nbformat_minor": 5
}
